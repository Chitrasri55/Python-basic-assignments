{
 "cells": [
  {
   "cell_type": "raw",
   "id": "05194aca",
   "metadata": {},
   "source": [
    "1. In the below elements which of them are values or an expression? eg:- values can be integer or string and expressions will be mathematical operators.\n",
    "values : \"hello\" , -87.8 , 6.\n",
    "Expression : * , - , / , + ."
   ]
  },
  {
   "cell_type": "raw",
   "id": "a0ae8792",
   "metadata": {},
   "source": [
    "2. What is the difference between string and variable?\n",
    "String : String is nothing but it a sequence of characters.\n",
    " Example: \"Python\" , \"ineuron\".\n",
    " Variable : Variable is nothing but it a memory location to store values.\n",
    " Example: x = \"Python\" , Y = \"ineuron\"."
   ]
  },
  {
   "cell_type": "raw",
   "id": "9a45d7f4",
   "metadata": {},
   "source": [
    "3. Describe three different data types.\n",
    "Numeric: Numeric data type has a numeric values that means it includes integer,floating value or even complex number also.\n",
    "List : List is one of the data type and the values in list are enclosed with [] brackets,and it can hold different types of elements and it is a mutable data type .\n",
    "  Example: l = [ \"ineuron\" , -55.6 , 2+3j ]\n",
    "Tuple: Tuple is another data type and the values in tuple are enclosed with () brackets, and it can hold different types of elements but it is immutable data type .\n",
    "  Example: t =(22,\"name\",-5.6)"
   ]
  },
  {
   "cell_type": "raw",
   "id": "1a0c3179",
   "metadata": {},
   "source": [
    "4. What is an expression made up of? What do all expressions do?\n",
    "An expression is made up of values,variables and operators.The task of an expression is if you give a task it will perform the particular task. "
   ]
  },
  {
   "cell_type": "raw",
   "id": "cde33675",
   "metadata": {},
   "source": [
    "5. This assignment statements, like spam = 10. What is the difference between an expression and a statement?\n",
    "The difference between an expression and a statement is an expression can be combined horizontally into larger expressions using operators, while statements can only be combined vertically by writing one after another.\n",
    "Example :  spam = 10 is an expression while \n",
    "           spam = 10\n",
    "           print(spam) is a statement"
   ]
  },
  {
   "cell_type": "raw",
   "id": "396dee1a",
   "metadata": {},
   "source": [
    "6. After running the following code, what does the variable bacon contain?\n",
    "bacon = 22\n",
    "bacon + 1"
   ]
  },
  {
   "cell_type": "code",
   "execution_count": 8,
   "id": "2f348cdf",
   "metadata": {},
   "outputs": [],
   "source": [
    "bacon = 22"
   ]
  },
  {
   "cell_type": "code",
   "execution_count": 9,
   "id": "3ed7c116",
   "metadata": {},
   "outputs": [
    {
     "data": {
      "text/plain": [
       "23"
      ]
     },
     "execution_count": 9,
     "metadata": {},
     "output_type": "execute_result"
    }
   ],
   "source": [
    "bacon+1"
   ]
  },
  {
   "cell_type": "code",
   "execution_count": 10,
   "id": "fa870716",
   "metadata": {},
   "outputs": [
    {
     "data": {
      "text/plain": [
       "22"
      ]
     },
     "execution_count": 10,
     "metadata": {},
     "output_type": "execute_result"
    }
   ],
   "source": [
    "bacon"
   ]
  },
  {
   "cell_type": "raw",
   "id": "46154375",
   "metadata": {},
   "source": [
    "7. What should the values of the following two terms be?\n",
    "'spam' + 'spamspam'\n",
    "'spam' * 3"
   ]
  },
  {
   "cell_type": "code",
   "execution_count": 6,
   "id": "c5130810",
   "metadata": {},
   "outputs": [
    {
     "data": {
      "text/plain": [
       "'spamspamspam'"
      ]
     },
     "execution_count": 6,
     "metadata": {},
     "output_type": "execute_result"
    }
   ],
   "source": [
    "'spam' + 'spamspam'"
   ]
  },
  {
   "cell_type": "code",
   "execution_count": 7,
   "id": "d8eded29",
   "metadata": {},
   "outputs": [
    {
     "data": {
      "text/plain": [
       "'spamspamspam'"
      ]
     },
     "execution_count": 7,
     "metadata": {},
     "output_type": "execute_result"
    }
   ],
   "source": [
    "'spam' * 3"
   ]
  },
  {
   "cell_type": "raw",
   "id": "9b45a0a4",
   "metadata": {},
   "source": [
    "8. Why is eggs a valid variable name while 100 is invalid?\n",
    "  Because variable name cannot start with an integer if we wish to start with an integer we can start with an alphabet.\n",
    "  Eg:eggs100 like that"
   ]
  },
  {
   "cell_type": "raw",
   "id": "6dbabe0e",
   "metadata": {},
   "source": [
    "9. What three functions can be used to get the integer, floating-point number, or string version of a value?\n",
    " The three functions can be used are int(),float() and str()"
   ]
  },
  {
   "cell_type": "raw",
   "id": "5e2da894",
   "metadata": {},
   "source": [
    "10. Why does this expression cause an error? How can you fix it?\n",
    "'I have eaten ' + 99 + ' burritos.'"
   ]
  },
  {
   "cell_type": "code",
   "execution_count": 11,
   "id": "3df274c4",
   "metadata": {},
   "outputs": [
    {
     "ename": "TypeError",
     "evalue": "can only concatenate str (not \"int\") to str",
     "output_type": "error",
     "traceback": [
      "\u001b[1;31m---------------------------------------------------------------------------\u001b[0m",
      "\u001b[1;31mTypeError\u001b[0m                                 Traceback (most recent call last)",
      "\u001b[1;32m<ipython-input-11-9230c793b9b6>\u001b[0m in \u001b[0;36m<module>\u001b[1;34m\u001b[0m\n\u001b[1;32m----> 1\u001b[1;33m \u001b[1;34m'I have eaten'\u001b[0m \u001b[1;33m+\u001b[0m \u001b[1;36m99\u001b[0m \u001b[1;33m+\u001b[0m \u001b[1;34m'burritos'\u001b[0m\u001b[1;33m\u001b[0m\u001b[1;33m\u001b[0m\u001b[0m\n\u001b[0m",
      "\u001b[1;31mTypeError\u001b[0m: can only concatenate str (not \"int\") to str"
     ]
    }
   ],
   "source": [
    "'I have eaten' + 99 + 'burritos'"
   ]
  },
  {
   "cell_type": "raw",
   "id": "9efedf34",
   "metadata": {},
   "source": [
    "because 99 is an integer in between the two strings so it throws an error if we want to continue we can do typecasting."
   ]
  }
 ],
 "metadata": {
  "kernelspec": {
   "display_name": "Python 3",
   "language": "python",
   "name": "python3"
  },
  "language_info": {
   "codemirror_mode": {
    "name": "ipython",
    "version": 3
   },
   "file_extension": ".py",
   "mimetype": "text/x-python",
   "name": "python",
   "nbconvert_exporter": "python",
   "pygments_lexer": "ipython3",
   "version": "3.8.8"
  }
 },
 "nbformat": 4,
 "nbformat_minor": 5
}
